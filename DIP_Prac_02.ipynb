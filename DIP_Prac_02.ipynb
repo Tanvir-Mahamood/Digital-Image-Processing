{
  "nbformat": 4,
  "nbformat_minor": 0,
  "metadata": {
    "colab": {
      "provenance": [],
      "authorship_tag": "ABX9TyO+dNXoh1FRo88TnTL6FCXx",
      "include_colab_link": true
    },
    "kernelspec": {
      "name": "python3",
      "display_name": "Python 3"
    },
    "language_info": {
      "name": "python"
    }
  },
  "cells": [
    {
      "cell_type": "markdown",
      "metadata": {
        "id": "view-in-github",
        "colab_type": "text"
      },
      "source": [
        "<a href=\"https://colab.research.google.com/github/Tanvir-Mahamood/Digital-Image-Processing/blob/main/DIP_Prac_02.ipynb\" target=\"_parent\"><img src=\"https://colab.research.google.com/assets/colab-badge.svg\" alt=\"Open In Colab\"/></a>"
      ]
    },
    {
      "cell_type": "markdown",
      "source": [
        "#Generate a Gray Scalecale Image"
      ],
      "metadata": {
        "id": "6dAkpYXPQ2Sh"
      }
    },
    {
      "cell_type": "code",
      "execution_count": 6,
      "metadata": {
        "colab": {
          "base_uri": "https://localhost:8080/",
          "height": 437
        },
        "id": "svAHOzrqOy13",
        "outputId": "f73957c4-c820-49bc-fd1b-58d8f76e4bd0"
      },
      "outputs": [
        {
          "output_type": "display_data",
          "data": {
            "text/plain": [
              "<Figure size 640x480 with 2 Axes>"
            ],
            "image/png": "[encoded data removed]"
          },
          "metadata": {}
        }
      ],
      "source": [
        "import numpy as np\n",
        "import cv2\n",
        "import matplotlib.pyplot as plt\n",
        "\n",
        "# Grayscale image as a 2D NumPy array\n",
        "img = np.array([[3, 10, 150],\n",
        "                [7, 70, 80],\n",
        "                [6, 150, 220]], dtype=np.uint8)\n",
        "\n",
        "# Display the image\n",
        "plt.imshow(img, cmap='gray', vmin=0, vmax=255)\n",
        "plt.colorbar()  # Optional: shows the scale bar\n",
        "plt.title(\"Grayscale Image\")\n",
        "plt.axis('off')  # Optional: hides the axis ticks\n",
        "plt.show()"
      ]
    },
    {
      "cell_type": "markdown",
      "source": [
        "Risize to 6X6 using diffeerent type of interpolation methods."
      ],
      "metadata": {
        "id": "wlLfhDa7RCDB"
      }
    },
    {
      "cell_type": "code",
      "source": [
        "nearest = cv2.resize(img, (6,6), interpolation = cv2.INTER_NEAREST)\n",
        "bilinear = cv2.resize(img, (6,6), interpolation = cv2.INTER_LINEAR)\n",
        "bicubic = cv2.resize(img, (6,6), interpolation = cv2.INTER_CUBIC)\n",
        "\n",
        "print(\"Nearest Neighbour Interpolation\")\n",
        "print(nearest)\n",
        "print(\"Bilinear Interpolation\")\n",
        "print(bilinear)\n",
        "print(\"Bicubic Interpolation\")\n",
        "print(bicubic)"
      ],
      "metadata": {
        "colab": {
          "base_uri": "https://localhost:8080/"
        },
        "id": "gzQmRs5qRJs4",
        "outputId": "4ddb4d8e-38a3-4556-c5ca-835e0a2c8513"
      },
      "execution_count": 7,
      "outputs": [
        {
          "output_type": "stream",
          "name": "stdout",
          "text": [
            "Nearest Neighbour Interpolation\n",
            "[[  3   3  10  10 150 150]\n",
            " [  3   3  10  10 150 150]\n",
            " [  7   7  70  70  80  80]\n",
            " [  7   7  70  70  80  80]\n",
            " [  6   6 150 150 220 220]\n",
            " [  6   6 150 150 220 220]]\n",
            "Bilinear Interpolation\n",
            "[[  3   5   8  45 115 150]\n",
            " [  4   9  20  52 106 133]\n",
            " [  6  18  43  66  87  98]\n",
            " [  7  28  69  96 109 115]\n",
            " [  6  37  99 144 171 185]\n",
            " [  6  42 114 167 202 220]]\n",
            "Bicubic Interpolation\n",
            "[[  2   0   0  39 123 174]\n",
            " [  2   4   6  47 105 141]\n",
            " [  2  14  35  60  75  85]\n",
            " [  0  27  74 106 105 105]\n",
            " [  0  33 100 159 179 191]\n",
            " [  0  38 116 192 223 243]]\n"
          ]
        }
      ]
    },
    {
      "cell_type": "markdown",
      "source": [
        "# Display all image"
      ],
      "metadata": {
        "id": "Q6CXOe5JSPR6"
      }
    },
    {
      "cell_type": "code",
      "source": [
        "title = ['Original 3X3', 'Nearest Neighbour Interpolation', 'Bilinear Interpolation', 'Bicubic Interpolation']\n",
        "images = [img, nearest, bilinear, bicubic]\n",
        "\n",
        "plt.figure(figsize=(10, 4))\n",
        "for i in range(4):\n",
        "    plt.subplot(1, 4, i+1)\n",
        "    plt.imshow(images[i], cmap='gray', vmin=0, vmax=255)\n",
        "    plt.title(title[i])\n",
        "    plt.axis('off')\n",
        "\n",
        "plt.tight_layout()\n",
        "plt.show()"
      ],
      "metadata": {
        "colab": {
          "base_uri": "https://localhost:8080/",
          "height": 290
        },
        "id": "Uj-vmV15SRMI",
        "outputId": "3c15449a-b65c-4843-c5b8-3d22e05038e9"
      },
      "execution_count": 8,
      "outputs": [
        {
          "output_type": "display_data",
          "data": {
            "text/plain": [
              "<Figure size 1000x400 with 4 Axes>"
            ],
            "image/png": "[encoded data removed]"
          },
          "metadata": {}
        }
      ]
    },
    {
      "cell_type": "markdown",
      "source": [
        "# Bilinear Interpolation (manually)"
      ],
      "metadata": {
        "id": "ewOfpRTzbmwN"
      }
    },
    {
      "cell_type": "code",
      "source": [
        "import math\n",
        "Win = len(img[0])\n",
        "Hin = len(img)\n",
        "Wout = 6\n",
        "Hout = 6\n",
        "img_out = np.zeros((Hout, Wout), dtype=np.uint8)\n",
        "W_scale = Win / Wout\n",
        "H_scale = Hin / Hout\n",
        "\n",
        "for i in range(Hout):\n",
        "    for j in range(Wout):\n",
        "        X = (j + 0.5) * W_scale - 0.5\n",
        "        Y = (i + 0.5) * H_scale - 0.5\n",
        "\n",
        "        X0 = math.floor(X)\n",
        "        Y0 = math.floor(Y)\n",
        "\n",
        "        X1 = min(X0 + 1, Win - 1)\n",
        "        Y1 = min(Y0 + 1, Hin - 1)\n",
        "\n",
        "        if X0 < 0 :\n",
        "            X0 = 0\n",
        "        if Y0 < 0 :\n",
        "            Y0 = 0\n",
        "        if X1 >= Win :\n",
        "            X1 = Win - 1\n",
        "            print(\"mara\")\n",
        "        if Y1 >= Hin :\n",
        "            Y1 = Hin - 1\n",
        "            print(\"mara\")\n",
        "\n",
        "        dx = X - X0\n",
        "        dy = Y - Y0\n",
        "\n",
        "        A = img[Y0, X0]\n",
        "        B = img[Y0, X1]\n",
        "        C = img[Y1, X0]\n",
        "        D = img[Y1, X1]\n",
        "\n",
        "        Top = A * (1 - dx) + B * dx\n",
        "        Bottom = C * (1 - dx) + D * dx\n",
        "        value = Top * (1 - dy) + Bottom * dy\n",
        "        img_out[i, j] = round(value)\n",
        "        \"\"\"\n",
        "        if i == 0 and j == 0:\n",
        "            print(f\"x={X}, y={Y}\")\n",
        "            print(f\"X0={X0}, Y0={Y0}\")\n",
        "            print(f\"X1={X1}, Y1={Y1}\")\n",
        "            print(f\"A={A}, B={B}, C={C}, D={D}\")\n",
        "            print(f\"Top={Top}, Bottom={Bottom}\")\n",
        "            print(f\"value={value}\")\n",
        "        \"\"\"\n",
        "\n",
        "print(img_out)"
      ],
      "metadata": {
        "colab": {
          "base_uri": "https://localhost:8080/"
        },
        "id": "pOaZCcwoPW1H",
        "outputId": "01f8d4e1-d149-4f0a-85b0-4e8b3b3e0219"
      },
      "execution_count": 9,
      "outputs": [
        {
          "output_type": "stream",
          "name": "stdout",
          "text": [
            "[[  3   5   8  45 115 150]\n",
            " [  4   9  20  52 106 132]\n",
            " [  6  18  43  66  87  98]\n",
            " [  7  28  69  96 109 115]\n",
            " [  6  37  99 144 171 185]\n",
            " [  6  42 114 168 202 220]]\n"
          ]
        }
      ]
    },
    {
      "cell_type": "markdown",
      "source": [
        "# Comaprison in both Bilinear Interpolation"
      ],
      "metadata": {
        "id": "fhmStxgvUgWk"
      }
    },
    {
      "cell_type": "code",
      "source": [
        "print(img_out)\n",
        "print(bilinear)\n",
        "\n",
        "# Convert to int16 before calculating the difference to avoid potential issues with uint8\n",
        "diff = abs(img_out.astype(np.int16) - bilinear.astype(np.int16))\n",
        "print(diff)"
      ],
      "metadata": {
        "colab": {
          "base_uri": "https://localhost:8080/"
        },
        "id": "Hkl7l5itUkjp",
        "outputId": "e740ace7-19f9-4757-ec22-97e17cab799b"
      },
      "execution_count": 12,
      "outputs": [
        {
          "output_type": "stream",
          "name": "stdout",
          "text": [
            "[[  3   5   8  45 115 150]\n",
            " [  4   9  20  52 106 132]\n",
            " [  6  18  43  66  87  98]\n",
            " [  7  28  69  96 109 115]\n",
            " [  6  37  99 144 171 185]\n",
            " [  6  42 114 168 202 220]]\n",
            "[[  3   5   8  45 115 150]\n",
            " [  4   9  20  52 106 133]\n",
            " [  6  18  43  66  87  98]\n",
            " [  7  28  69  96 109 115]\n",
            " [  6  37  99 144 171 185]\n",
            " [  6  42 114 167 202 220]]\n",
            "[[0 0 0 0 0 0]\n",
            " [0 0 0 0 0 1]\n",
            " [0 0 0 0 0 0]\n",
            " [0 0 0 0 0 0]\n",
            " [0 0 0 0 0 0]\n",
            " [0 0 0 1 0 0]]\n"
          ]
        }
      ]
    }
  ]
}